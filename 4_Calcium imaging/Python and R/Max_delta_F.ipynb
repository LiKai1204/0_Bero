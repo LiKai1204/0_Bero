{
 "cells": [
  {
   "cell_type": "code",
   "execution_count": 1,
   "metadata": {},
   "outputs": [],
   "source": [
    "#Plotting with Python\n",
    "import numpy as  np\n",
    "import pandas as pd\n",
    "from matplotlib import pyplot as plt\n",
    "import seaborn as sns\n",
    "import os"
   ]
  },
  {
   "cell_type": "code",
   "execution_count": 2,
   "metadata": {},
   "outputs": [],
   "source": [
    "os.chdir( \" \" )\n",
    "\n",
    "sns.set()\n",
    "sns.set_style('white')\n",
    "sns.set_palette('Set1')"
   ]
  },
  {
   "cell_type": "code",
   "execution_count": 3,
   "metadata": {},
   "outputs": [],
   "source": [
    "df_C= pd.read_csv(' ')\n",
    "df_B= pd.read_csv(' ')"
   ]
  },
  {
   "cell_type": "code",
   "execution_count": 4,
   "metadata": {},
   "outputs": [],
   "source": [
    "df_C_melt = pd.melt(df_C)\n",
    "df_C_melt['conditions'] = 'Control'\n",
    "\n",
    "df_B_melt = pd.melt(df_B)\n",
    "df_B_melt['conditions'] = 'beroKD'"
   ]
  },
  {
   "cell_type": "code",
   "execution_count": 5,
   "metadata": {},
   "outputs": [
    {
     "data": {
      "text/html": [
       "<div>\n",
       "<style scoped>\n",
       "    .dataframe tbody tr th:only-of-type {\n",
       "        vertical-align: middle;\n",
       "    }\n",
       "\n",
       "    .dataframe tbody tr th {\n",
       "        vertical-align: top;\n",
       "    }\n",
       "\n",
       "    .dataframe thead th {\n",
       "        text-align: right;\n",
       "    }\n",
       "</style>\n",
       "<table border=\"1\" class=\"dataframe\">\n",
       "  <thead>\n",
       "    <tr style=\"text-align: right;\">\n",
       "      <th></th>\n",
       "      <th>variable</th>\n",
       "      <th>value</th>\n",
       "      <th>conditions</th>\n",
       "    </tr>\n",
       "  </thead>\n",
       "  <tbody>\n",
       "    <tr>\n",
       "      <th>0</th>\n",
       "      <td>withoutATR</td>\n",
       "      <td>23.309899</td>\n",
       "      <td>Control</td>\n",
       "    </tr>\n",
       "    <tr>\n",
       "      <th>1</th>\n",
       "      <td>withoutATR</td>\n",
       "      <td>20.107702</td>\n",
       "      <td>Control</td>\n",
       "    </tr>\n",
       "    <tr>\n",
       "      <th>2</th>\n",
       "      <td>withoutATR</td>\n",
       "      <td>12.139832</td>\n",
       "      <td>Control</td>\n",
       "    </tr>\n",
       "    <tr>\n",
       "      <th>3</th>\n",
       "      <td>withoutATR</td>\n",
       "      <td>5.913137</td>\n",
       "      <td>Control</td>\n",
       "    </tr>\n",
       "    <tr>\n",
       "      <th>4</th>\n",
       "      <td>withoutATR</td>\n",
       "      <td>18.275898</td>\n",
       "      <td>Control</td>\n",
       "    </tr>\n",
       "    <tr>\n",
       "      <th>...</th>\n",
       "      <td>...</td>\n",
       "      <td>...</td>\n",
       "      <td>...</td>\n",
       "    </tr>\n",
       "    <tr>\n",
       "      <th>51</th>\n",
       "      <td>withATR</td>\n",
       "      <td>0.557284</td>\n",
       "      <td>beroKD</td>\n",
       "    </tr>\n",
       "    <tr>\n",
       "      <th>52</th>\n",
       "      <td>withATR</td>\n",
       "      <td>14.393040</td>\n",
       "      <td>beroKD</td>\n",
       "    </tr>\n",
       "    <tr>\n",
       "      <th>53</th>\n",
       "      <td>withATR</td>\n",
       "      <td>33.708018</td>\n",
       "      <td>beroKD</td>\n",
       "    </tr>\n",
       "    <tr>\n",
       "      <th>54</th>\n",
       "      <td>withATR</td>\n",
       "      <td>NaN</td>\n",
       "      <td>beroKD</td>\n",
       "    </tr>\n",
       "    <tr>\n",
       "      <th>55</th>\n",
       "      <td>withATR</td>\n",
       "      <td>NaN</td>\n",
       "      <td>beroKD</td>\n",
       "    </tr>\n",
       "  </tbody>\n",
       "</table>\n",
       "<p>112 rows × 3 columns</p>\n",
       "</div>"
      ],
      "text/plain": [
       "      variable      value conditions\n",
       "0   withoutATR  23.309899    Control\n",
       "1   withoutATR  20.107702    Control\n",
       "2   withoutATR  12.139832    Control\n",
       "3   withoutATR   5.913137    Control\n",
       "4   withoutATR  18.275898    Control\n",
       "..         ...        ...        ...\n",
       "51     withATR   0.557284     beroKD\n",
       "52     withATR  14.393040     beroKD\n",
       "53     withATR  33.708018     beroKD\n",
       "54     withATR        NaN     beroKD\n",
       "55     withATR        NaN     beroKD\n",
       "\n",
       "[112 rows x 3 columns]"
      ]
     },
     "execution_count": 5,
     "metadata": {},
     "output_type": "execute_result"
    }
   ],
   "source": [
    "df = pd.concat([df_C_melt, df_B_melt], axis=0)\n",
    "df"
   ]
  },
  {
   "cell_type": "code",
   "execution_count": 6,
   "metadata": {},
   "outputs": [
    {
     "data": {
      "image/png": "[encoded data removed]",
      "text/plain": [
       "<Figure size 720x720 with 1 Axes>"
      ]
     },
     "metadata": {},
     "output_type": "display_data"
    }
   ],
   "source": [
    "fig = plt.figure(figsize=(10,10))\n",
    "ax = fig.add_subplot(1, 1, 1)\n",
    "sns.boxplot(x='conditions', y='value', data=df, hue='variable', showfliers=False, ax=ax)\n",
    "sns.stripplot(x='conditions', y='value', data=df, hue='variable', dodge=True, jitter=True, color='black', size=15, ax=ax)\n",
    "\n",
    "ax.set_xlabel('')\n",
    "ax.set_ylabel('')\n",
    "ax.set_yticks([0, 50, 100, 150, 200])\n",
    "plt.grid(True)"
   ]
  },
  {
   "cell_type": "code",
   "execution_count": 7,
   "metadata": {},
   "outputs": [
    {
     "name": "stderr",
     "output_type": "stream",
     "text": [
      "The PostScript backend does not support transparency; partially transparent artists will be rendered opaque.\n",
      "The PostScript backend does not support transparency; partially transparent artists will be rendered opaque.\n"
     ]
    }
   ],
   "source": [
    "plt.show()\n",
    "fig.savefig(\" \")"
   ]
  },
  {
   "cell_type": "code",
   "execution_count": 1,
   "metadata": {},
   "outputs": [
    {
     "name": "stderr",
     "output_type": "stream",
     "text": [
      " Package ‘exactRankTests’ is no longer under development.\n",
      " Please consider using package ‘coin’ instead.\n",
      "\n",
      "\n"
     ]
    }
   ],
   "source": [
    "#Statistical analysis using R\n",
    "library(exactRankTests)\n",
    "library(dunn.test)\n",
    "setwd(\"/Users/ \")"
   ]
  },
  {
   "cell_type": "code",
   "execution_count": 2,
   "metadata": {},
   "outputs": [],
   "source": [
    "afc=read.csv(\" \",  header=F)\n",
    "c=read.csv(\" \",  header=F)\n",
    "afkd=read.csv(\" \",  header=F)\n",
    "kd=read.csv(\" \",  header=F)"
   ]
  },
  {
   "cell_type": "code",
   "execution_count": 3,
   "metadata": {},
   "outputs": [],
   "source": [
    "vafc=c(afc[,1])\n",
    "vc=c(c[,1])\n",
    "vafkd=c(afkd[,1])\n",
    "vkd=c(kd[,1])"
   ]
  },
  {
   "cell_type": "code",
   "execution_count": 4,
   "metadata": {},
   "outputs": [],
   "source": [
    "vg=factor(rep(c(\"vafc\", \"vc\", \"vafkd\", \"vkd\"), c(24, 29, 25, 27)))"
   ]
  },
  {
   "cell_type": "code",
   "execution_count": 5,
   "metadata": {},
   "outputs": [
    {
     "data": {
      "text/plain": [
       "\n",
       "\tKruskal-Wallis rank sum test\n",
       "\n",
       "data:  list(vafc, vc, vafkd, vkd)\n",
       "Kruskal-Wallis chi-squared = 65.523, df = 3, p-value = 3.877e-14\n"
      ]
     },
     "metadata": {},
     "output_type": "display_data"
    }
   ],
   "source": [
    "kruskal.test(x=list(vafc,vc,vafkd,vkd))"
   ]
  },
  {
   "cell_type": "code",
   "execution_count": 6,
   "metadata": {},
   "outputs": [
    {
     "name": "stdout",
     "output_type": "stream",
     "text": [
      "  Kruskal-Wallis rank sum test\n",
      "\n",
      "data: x and vg\n",
      "Kruskal-Wallis chi-squared = 65.5232, df = 3, p-value = 0\n",
      "\n",
      "\n",
      "                             Comparison of x by vg                             \n",
      "                             (Benjamini-Hochberg)                              \n",
      "Col Mean-|\n",
      "Row Mean |       vafc      vafkd         vc\n",
      "---------+---------------------------------\n",
      "   vafkd |   4.521321\n",
      "         |    0.0000*\n",
      "         |\n",
      "      vc |   1.517119  -3.200345\n",
      "         |     0.0646    0.0008*\n",
      "         |\n",
      "     vkd |  -3.250110  -7.940276  -4.974889\n",
      "         |    0.0009*    0.0000*    0.0000*\n",
      "\n",
      "alpha = 0.05\n",
      "Reject Ho if p <= alpha/2\n"
     ]
    }
   ],
   "source": [
    "dunn.test(x=c(vafc,vc,vafkd,vkd),g=vg, method=\"BH\")"
   ]
  },
  {
   "cell_type": "code",
   "execution_count": null,
   "metadata": {},
   "outputs": [],
   "source": []
  }
 ],
 "metadata": {
  "kernelspec": {
   "display_name": "Python 3",
   "language": "python",
   "name": "python3"
  },
  "language_info": {
   "codemirror_mode": {
    "name": "ipython",
    "version": 3
   },
   "file_extension": ".py",
   "mimetype": "text/x-python",
   "name": "python",
   "nbconvert_exporter": "python",
   "pygments_lexer": "ipython3",
   "version": "3.7.6"
  }
 },
 "nbformat": 4,
 "nbformat_minor": 4
}
